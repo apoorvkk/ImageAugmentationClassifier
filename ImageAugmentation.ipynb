{
 "cells": [
  {
   "cell_type": "code",
   "execution_count": 2,
   "metadata": {},
   "outputs": [],
   "source": [
    "from keras.preprocessing.image import ImageDataGenerator, array_to_img, img_to_array, load_img"
   ]
  },
  {
   "cell_type": "code",
   "execution_count": 22,
   "metadata": {},
   "outputs": [],
   "source": [
    "datagen = ImageDataGenerator(\n",
    "    rotation_range=40,\n",
    "    width_shift_range=0.2,\n",
    "    height_shift_range=0.2,\n",
    "    shear_range=0.2,\n",
    "    zoom_range=0.2,\n",
    "    horizontal_flip=True,\n",
    "    fill_mode='nearest')\n",
    "\n",
    "img = load_img('data/train/cats/cat.10.jpg')\n",
    "x = img_to_array(img)\n",
    "x = x.reshape((1, ) + x.shape)"
   ]
  },
  {
   "cell_type": "code",
   "execution_count": 23,
   "metadata": {},
   "outputs": [
    {
     "data": {
      "text/plain": [
       "(1, 499, 489, 3)"
      ]
     },
     "execution_count": 23,
     "metadata": {},
     "output_type": "execute_result"
    }
   ],
   "source": [
    "x.shape"
   ]
  },
  {
   "cell_type": "code",
   "execution_count": 18,
   "metadata": {},
   "outputs": [],
   "source": [
    "i = 0\n",
    "for batch in datagen.flow(x, batch_size=1,\n",
    "                         save_to_dir='preview',\n",
    "                         save_prefix='cat',\n",
    "                         save_format='jpeg'):\n",
    "    i += 1\n",
    "    if i > 20:\n",
    "        break"
   ]
  },
  {
   "cell_type": "code",
   "execution_count": 34,
   "metadata": {},
   "outputs": [
    {
     "name": "stdout",
     "output_type": "stream",
     "text": [
      "_________________________________________________________________\n",
      "Layer (type)                 Output Shape              Param #   \n",
      "=================================================================\n",
      "conv2d_22 (Conv2D)           (None, 148, 148, 32)      896       \n",
      "_________________________________________________________________\n",
      "activation_22 (Activation)   (None, 148, 148, 32)      0         \n",
      "_________________________________________________________________\n",
      "max_pooling2d_22 (MaxPooling (None, 74, 74, 32)        0         \n",
      "_________________________________________________________________\n",
      "conv2d_23 (Conv2D)           (None, 72, 72, 32)        9248      \n",
      "_________________________________________________________________\n",
      "activation_23 (Activation)   (None, 72, 72, 32)        0         \n",
      "_________________________________________________________________\n",
      "max_pooling2d_23 (MaxPooling (None, 36, 36, 32)        0         \n",
      "_________________________________________________________________\n",
      "conv2d_24 (Conv2D)           (None, 34, 34, 64)        18496     \n",
      "_________________________________________________________________\n",
      "activation_24 (Activation)   (None, 34, 34, 64)        0         \n",
      "_________________________________________________________________\n",
      "max_pooling2d_24 (MaxPooling (None, 17, 17, 64)        0         \n",
      "_________________________________________________________________\n",
      "flatten_1 (Flatten)          (None, 18496)             0         \n",
      "_________________________________________________________________\n",
      "dense_1 (Dense)              (None, 64)                1183808   \n",
      "_________________________________________________________________\n",
      "activation_25 (Activation)   (None, 64)                0         \n",
      "_________________________________________________________________\n",
      "dropout_1 (Dropout)          (None, 64)                0         \n",
      "_________________________________________________________________\n",
      "dense_2 (Dense)              (None, 1)                 65        \n",
      "_________________________________________________________________\n",
      "activation_26 (Activation)   (None, 1)                 0         \n",
      "=================================================================\n",
      "Total params: 1,212,513\n",
      "Trainable params: 1,212,513\n",
      "Non-trainable params: 0\n",
      "_________________________________________________________________\n"
     ]
    }
   ],
   "source": [
    "from keras.models import Sequential\n",
    "from keras.layers import Conv2D, MaxPooling2D\n",
    "from keras.layers import Activation, Dropout, Flatten, Dense\n",
    "\n",
    "model = Sequential()\n",
    "model.add(Conv2D(32, (3, 3), input_shape=(150, 150, 3)))\n",
    "model.add(Activation('relu'))\n",
    "model.add(MaxPooling2D(pool_size=(2, 2)))\n",
    "\n",
    "\n",
    "model.add(Conv2D(32, (3,3)))\n",
    "model.add(Activation('relu'))\n",
    "model.add(MaxPooling2D(pool_size=(2,2)))\n",
    "\n",
    "model.add(Conv2D(64, (3,3)))\n",
    "model.add(Activation('relu'))\n",
    "model.add(MaxPooling2D(pool_size=(2,2)))\n",
    "\n",
    "model.add(Flatten())\n",
    "model.add(Dense(64))\n",
    "model.add(Activation('relu'))\n",
    "model.add(Dropout(0.5))\n",
    "\n",
    "model.add(Dense(1))\n",
    "model.add(Activation('sigmoid'))\n",
    "\n",
    "model.summary()"
   ]
  },
  {
   "cell_type": "code",
   "execution_count": 40,
   "metadata": {},
   "outputs": [],
   "source": [
    "model.compile(loss='binary_crossentropy',\n",
    "             optimizer='rmsprop',\n",
    "             metrics=['accuracy'])"
   ]
  },
  {
   "cell_type": "code",
   "execution_count": 41,
   "metadata": {
    "scrolled": true
   },
   "outputs": [
    {
     "name": "stdout",
     "output_type": "stream",
     "text": [
      "Found 2000 images belonging to 2 classes.\n",
      "Found 800 images belonging to 2 classes.\n"
     ]
    }
   ],
   "source": [
    "batch_size=16\n",
    "\n",
    "train_datagen = ImageDataGenerator(\n",
    "    rescale=1./255,\n",
    "    shear_range=0.2,\n",
    "    zoom_range=0.2,\n",
    "    horizontal_flip=True)\n",
    "\n",
    "test_datagen = ImageDataGenerator(rescale=1./255)\n",
    "\n",
    "train_generator = train_datagen.flow_from_directory(\n",
    "    'data/train',\n",
    "    target_size=(150, 150),\n",
    "    batch_size=batch_size,\n",
    "    class_mode='binary')\n",
    "\n",
    "validation_generator = test_datagen.flow_from_directory(\n",
    "    'data/validation',\n",
    "    target_size=(150, 150),\n",
    "    batch_size=batch_size,\n",
    "    class_mode='binary')"
   ]
  },
  {
   "cell_type": "code",
   "execution_count": 46,
   "metadata": {},
   "outputs": [
    {
     "name": "stdout",
     "output_type": "stream",
     "text": [
      "Epoch 1/50\n",
      "125/125 [==============================] - 73s 582ms/step - loss: 0.5632 - acc: 0.7210 - val_loss: 0.5333 - val_acc: 0.7225\n",
      "\n",
      "Epoch 00001: val_acc improved from -inf to 0.72250, saving model to weights-best.hdf5\n",
      "Epoch 2/50\n",
      "125/125 [==============================] - 84s 676ms/step - loss: 0.5442 - acc: 0.7375 - val_loss: 0.5395 - val_acc: 0.7175\n",
      "\n",
      "Epoch 00002: val_acc did not improve from 0.72250\n",
      "Epoch 3/50\n",
      "125/125 [==============================] - 74s 593ms/step - loss: 0.5497 - acc: 0.7450 - val_loss: 0.5336 - val_acc: 0.7250\n",
      "\n",
      "Epoch 00003: val_acc improved from 0.72250 to 0.72500, saving model to weights-best.hdf5\n",
      "Epoch 4/50\n",
      "125/125 [==============================] - 74s 588ms/step - loss: 0.5300 - acc: 0.7495 - val_loss: 0.5489 - val_acc: 0.7100\n",
      "\n",
      "Epoch 00004: val_acc did not improve from 0.72500\n",
      "Epoch 5/50\n",
      "125/125 [==============================] - 72s 574ms/step - loss: 0.5379 - acc: 0.7420 - val_loss: 0.5417 - val_acc: 0.7350\n",
      "\n",
      "Epoch 00005: val_acc improved from 0.72500 to 0.73500, saving model to weights-best.hdf5\n",
      "Epoch 6/50\n",
      "125/125 [==============================] - 79s 632ms/step - loss: 0.5063 - acc: 0.7580 - val_loss: 0.5314 - val_acc: 0.7450\n",
      "\n",
      "Epoch 00006: val_acc improved from 0.73500 to 0.74500, saving model to weights-best.hdf5\n",
      "Epoch 7/50\n",
      "125/125 [==============================] - 76s 605ms/step - loss: 0.5265 - acc: 0.7645 - val_loss: 0.5442 - val_acc: 0.7375\n",
      "\n",
      "Epoch 00007: val_acc did not improve from 0.74500\n",
      "Epoch 8/50\n",
      "125/125 [==============================] - 72s 579ms/step - loss: 0.4976 - acc: 0.7735 - val_loss: 0.5802 - val_acc: 0.7238\n",
      "\n",
      "Epoch 00008: val_acc did not improve from 0.74500\n",
      "Epoch 9/50\n",
      "125/125 [==============================] - 72s 577ms/step - loss: 0.5102 - acc: 0.7630 - val_loss: 0.5448 - val_acc: 0.7163\n",
      "\n",
      "Epoch 00009: val_acc did not improve from 0.74500\n",
      "Epoch 10/50\n",
      "125/125 [==============================] - 71s 566ms/step - loss: 0.4836 - acc: 0.7835 - val_loss: 0.5048 - val_acc: 0.7500\n",
      "\n",
      "Epoch 00010: val_acc improved from 0.74500 to 0.75000, saving model to weights-best.hdf5\n",
      "Epoch 11/50\n",
      "125/125 [==============================] - 71s 571ms/step - loss: 0.4960 - acc: 0.7705 - val_loss: 0.5198 - val_acc: 0.7588\n",
      "\n",
      "Epoch 00011: val_acc improved from 0.75000 to 0.75875, saving model to weights-best.hdf5\n",
      "Epoch 12/50\n",
      "125/125 [==============================] - 72s 578ms/step - loss: 0.4655 - acc: 0.7890 - val_loss: 0.5191 - val_acc: 0.7488\n",
      "\n",
      "Epoch 00012: val_acc did not improve from 0.75875\n",
      "Epoch 13/50\n",
      "125/125 [==============================] - 76s 607ms/step - loss: 0.4878 - acc: 0.7730 - val_loss: 0.5286 - val_acc: 0.7312\n",
      "\n",
      "Epoch 00013: val_acc did not improve from 0.75875\n",
      "Epoch 14/50\n",
      "125/125 [==============================] - 74s 591ms/step - loss: 0.4640 - acc: 0.7945 - val_loss: 0.5574 - val_acc: 0.7638\n",
      "\n",
      "Epoch 00014: val_acc improved from 0.75875 to 0.76375, saving model to weights-best.hdf5\n",
      "Epoch 15/50\n",
      "125/125 [==============================] - 74s 591ms/step - loss: 0.4737 - acc: 0.7875 - val_loss: 0.5835 - val_acc: 0.7275\n",
      "\n",
      "Epoch 00015: val_acc did not improve from 0.76375\n",
      "Epoch 16/50\n",
      "125/125 [==============================] - 74s 595ms/step - loss: 0.4723 - acc: 0.7860 - val_loss: 0.5366 - val_acc: 0.7450\n",
      "\n",
      "Epoch 00016: val_acc did not improve from 0.76375\n",
      "Epoch 17/50\n",
      "125/125 [==============================] - 73s 584ms/step - loss: 0.4674 - acc: 0.7885 - val_loss: 0.4920 - val_acc: 0.7762\n",
      "\n",
      "Epoch 00017: val_acc improved from 0.76375 to 0.77625, saving model to weights-best.hdf5\n",
      "Epoch 18/50\n",
      "125/125 [==============================] - 74s 594ms/step - loss: 0.4526 - acc: 0.8090 - val_loss: 0.5951 - val_acc: 0.7475\n",
      "\n",
      "Epoch 00018: val_acc did not improve from 0.77625\n",
      "Epoch 19/50\n",
      "125/125 [==============================] - 78s 622ms/step - loss: 0.4434 - acc: 0.8020 - val_loss: 0.4982 - val_acc: 0.7825\n",
      "\n",
      "Epoch 00019: val_acc improved from 0.77625 to 0.78250, saving model to weights-best.hdf5\n",
      "Epoch 20/50\n",
      "125/125 [==============================] - 74s 589ms/step - loss: 0.4587 - acc: 0.8035 - val_loss: 0.5165 - val_acc: 0.7712\n",
      "\n",
      "Epoch 00020: val_acc did not improve from 0.78250\n",
      "Epoch 21/50\n",
      "125/125 [==============================] - 75s 602ms/step - loss: 0.4592 - acc: 0.8070 - val_loss: 0.5136 - val_acc: 0.7612\n",
      "\n",
      "Epoch 00021: val_acc did not improve from 0.78250\n",
      "Epoch 22/50\n",
      "125/125 [==============================] - 79s 633ms/step - loss: 0.4651 - acc: 0.7945 - val_loss: 0.6455 - val_acc: 0.7113\n",
      "\n",
      "Epoch 00022: val_acc did not improve from 0.78250\n",
      "Epoch 23/50\n",
      "125/125 [==============================] - 75s 603ms/step - loss: 0.4449 - acc: 0.8150 - val_loss: 0.6935 - val_acc: 0.7638\n",
      "\n",
      "Epoch 00023: val_acc did not improve from 0.78250\n",
      "Epoch 24/50\n",
      "125/125 [==============================] - 76s 609ms/step - loss: 0.4424 - acc: 0.8220 - val_loss: 0.4980 - val_acc: 0.7562\n",
      "\n",
      "Epoch 00024: val_acc did not improve from 0.78250\n",
      "Epoch 25/50\n",
      "125/125 [==============================] - 74s 594ms/step - loss: 0.4254 - acc: 0.8220 - val_loss: 0.6696 - val_acc: 0.7662\n",
      "\n",
      "Epoch 00025: val_acc did not improve from 0.78250\n",
      "Epoch 26/50\n",
      "125/125 [==============================] - 72s 578ms/step - loss: 0.4429 - acc: 0.8165 - val_loss: 0.5313 - val_acc: 0.7650\n",
      "\n",
      "Epoch 00026: val_acc did not improve from 0.78250\n",
      "Epoch 27/50\n",
      "125/125 [==============================] - 71s 567ms/step - loss: 0.4298 - acc: 0.8180 - val_loss: 0.5072 - val_acc: 0.7362\n",
      "\n",
      "Epoch 00027: val_acc did not improve from 0.78250\n",
      "Epoch 28/50\n",
      "125/125 [==============================] - 71s 568ms/step - loss: 0.4344 - acc: 0.8170 - val_loss: 0.5341 - val_acc: 0.7475\n",
      "\n",
      "Epoch 00028: val_acc did not improve from 0.78250\n",
      "Epoch 29/50\n",
      "125/125 [==============================] - 70s 562ms/step - loss: 0.4284 - acc: 0.8125 - val_loss: 0.7509 - val_acc: 0.7512\n",
      "\n",
      "Epoch 00029: val_acc did not improve from 0.78250\n",
      "Epoch 30/50\n",
      "125/125 [==============================] - 72s 579ms/step - loss: 0.4336 - acc: 0.8085 - val_loss: 0.5117 - val_acc: 0.7562\n",
      "\n",
      "Epoch 00030: val_acc did not improve from 0.78250\n",
      "Epoch 31/50\n",
      "125/125 [==============================] - 74s 591ms/step - loss: 0.4437 - acc: 0.8010 - val_loss: 0.5209 - val_acc: 0.7688\n",
      "\n",
      "Epoch 00031: val_acc did not improve from 0.78250\n",
      "Epoch 32/50\n",
      "125/125 [==============================] - 78s 622ms/step - loss: 0.4228 - acc: 0.8215 - val_loss: 0.6279 - val_acc: 0.7712\n",
      "\n",
      "Epoch 00032: val_acc did not improve from 0.78250\n",
      "Epoch 33/50\n",
      "125/125 [==============================] - 73s 587ms/step - loss: 0.4234 - acc: 0.8125 - val_loss: 0.5823 - val_acc: 0.7488\n",
      "\n",
      "Epoch 00033: val_acc did not improve from 0.78250\n",
      "Epoch 34/50\n",
      "125/125 [==============================] - 82s 656ms/step - loss: 0.4291 - acc: 0.8215 - val_loss: 0.5111 - val_acc: 0.7500\n",
      "\n",
      "Epoch 00034: val_acc did not improve from 0.78250\n",
      "Epoch 35/50\n",
      "125/125 [==============================] - 83s 663ms/step - loss: 0.4166 - acc: 0.8240 - val_loss: 0.6207 - val_acc: 0.7150\n",
      "\n",
      "Epoch 00035: val_acc did not improve from 0.78250\n",
      "Epoch 36/50\n",
      "125/125 [==============================] - 83s 665ms/step - loss: 0.4514 - acc: 0.8110 - val_loss: 0.5037 - val_acc: 0.7488\n",
      "\n",
      "Epoch 00036: val_acc did not improve from 0.78250\n",
      "Epoch 37/50\n",
      "125/125 [==============================] - 77s 618ms/step - loss: 0.4362 - acc: 0.8100 - val_loss: 0.8963 - val_acc: 0.7325\n",
      "\n",
      "Epoch 00037: val_acc did not improve from 0.78250\n",
      "Epoch 38/50\n",
      "125/125 [==============================] - 79s 633ms/step - loss: 0.4186 - acc: 0.8300 - val_loss: 0.6414 - val_acc: 0.7362\n",
      "\n",
      "Epoch 00038: val_acc did not improve from 0.78250\n",
      "Epoch 39/50\n",
      "125/125 [==============================] - 79s 633ms/step - loss: 0.4271 - acc: 0.8275 - val_loss: 0.5524 - val_acc: 0.7600\n",
      "\n",
      "Epoch 00039: val_acc did not improve from 0.78250\n",
      "Epoch 40/50\n",
      " 12/125 [=>............................] - ETA: 1:08 - loss: 0.4121 - acc: 0.8333"
     ]
    },
    {
     "ename": "KeyboardInterrupt",
     "evalue": "",
     "output_type": "error",
     "traceback": [
      "\u001b[0;31m---------------------------------------------------------------------------\u001b[0m",
      "\u001b[0;31mKeyboardInterrupt\u001b[0m                         Traceback (most recent call last)",
      "\u001b[0;32m<ipython-input-46-344c861b88df>\u001b[0m in \u001b[0;36m<module>\u001b[0;34m()\u001b[0m\n\u001b[1;32m     15\u001b[0m     \u001b[0mvalidation_data\u001b[0m\u001b[0;34m=\u001b[0m\u001b[0mvalidation_generator\u001b[0m\u001b[0;34m,\u001b[0m\u001b[0;34m\u001b[0m\u001b[0m\n\u001b[1;32m     16\u001b[0m     \u001b[0mvalidation_steps\u001b[0m\u001b[0;34m=\u001b[0m\u001b[0;36m800\u001b[0m \u001b[0;34m//\u001b[0m \u001b[0mbatch_size\u001b[0m\u001b[0;34m,\u001b[0m\u001b[0;34m\u001b[0m\u001b[0m\n\u001b[0;32m---> 17\u001b[0;31m     callbacks=[save_checkpoint])\n\u001b[0m",
      "\u001b[0;32m~/anaconda3/envs/tensorflow/lib/python3.5/site-packages/keras/legacy/interfaces.py\u001b[0m in \u001b[0;36mwrapper\u001b[0;34m(*args, **kwargs)\u001b[0m\n\u001b[1;32m     89\u001b[0m                 warnings.warn('Update your `' + object_name +\n\u001b[1;32m     90\u001b[0m                               '` call to the Keras 2 API: ' + signature, stacklevel=2)\n\u001b[0;32m---> 91\u001b[0;31m             \u001b[0;32mreturn\u001b[0m \u001b[0mfunc\u001b[0m\u001b[0;34m(\u001b[0m\u001b[0;34m*\u001b[0m\u001b[0margs\u001b[0m\u001b[0;34m,\u001b[0m \u001b[0;34m**\u001b[0m\u001b[0mkwargs\u001b[0m\u001b[0;34m)\u001b[0m\u001b[0;34m\u001b[0m\u001b[0m\n\u001b[0m\u001b[1;32m     92\u001b[0m         \u001b[0mwrapper\u001b[0m\u001b[0;34m.\u001b[0m\u001b[0m_original_function\u001b[0m \u001b[0;34m=\u001b[0m \u001b[0mfunc\u001b[0m\u001b[0;34m\u001b[0m\u001b[0m\n\u001b[1;32m     93\u001b[0m         \u001b[0;32mreturn\u001b[0m \u001b[0mwrapper\u001b[0m\u001b[0;34m\u001b[0m\u001b[0m\n",
      "\u001b[0;32m~/anaconda3/envs/tensorflow/lib/python3.5/site-packages/keras/engine/training.py\u001b[0m in \u001b[0;36mfit_generator\u001b[0;34m(self, generator, steps_per_epoch, epochs, verbose, callbacks, validation_data, validation_steps, class_weight, max_queue_size, workers, use_multiprocessing, shuffle, initial_epoch)\u001b[0m\n\u001b[1;32m   1413\u001b[0m             \u001b[0muse_multiprocessing\u001b[0m\u001b[0;34m=\u001b[0m\u001b[0muse_multiprocessing\u001b[0m\u001b[0;34m,\u001b[0m\u001b[0;34m\u001b[0m\u001b[0m\n\u001b[1;32m   1414\u001b[0m             \u001b[0mshuffle\u001b[0m\u001b[0;34m=\u001b[0m\u001b[0mshuffle\u001b[0m\u001b[0;34m,\u001b[0m\u001b[0;34m\u001b[0m\u001b[0m\n\u001b[0;32m-> 1415\u001b[0;31m             initial_epoch=initial_epoch)\n\u001b[0m\u001b[1;32m   1416\u001b[0m \u001b[0;34m\u001b[0m\u001b[0m\n\u001b[1;32m   1417\u001b[0m     \u001b[0;34m@\u001b[0m\u001b[0minterfaces\u001b[0m\u001b[0;34m.\u001b[0m\u001b[0mlegacy_generator_methods_support\u001b[0m\u001b[0;34m\u001b[0m\u001b[0m\n",
      "\u001b[0;32m~/anaconda3/envs/tensorflow/lib/python3.5/site-packages/keras/engine/training_generator.py\u001b[0m in \u001b[0;36mfit_generator\u001b[0;34m(model, generator, steps_per_epoch, epochs, verbose, callbacks, validation_data, validation_steps, class_weight, max_queue_size, workers, use_multiprocessing, shuffle, initial_epoch)\u001b[0m\n\u001b[1;32m    211\u001b[0m                 outs = model.train_on_batch(x, y,\n\u001b[1;32m    212\u001b[0m                                             \u001b[0msample_weight\u001b[0m\u001b[0;34m=\u001b[0m\u001b[0msample_weight\u001b[0m\u001b[0;34m,\u001b[0m\u001b[0;34m\u001b[0m\u001b[0m\n\u001b[0;32m--> 213\u001b[0;31m                                             class_weight=class_weight)\n\u001b[0m\u001b[1;32m    214\u001b[0m \u001b[0;34m\u001b[0m\u001b[0m\n\u001b[1;32m    215\u001b[0m                 \u001b[0mouts\u001b[0m \u001b[0;34m=\u001b[0m \u001b[0mto_list\u001b[0m\u001b[0;34m(\u001b[0m\u001b[0mouts\u001b[0m\u001b[0;34m)\u001b[0m\u001b[0;34m\u001b[0m\u001b[0m\n",
      "\u001b[0;32m~/anaconda3/envs/tensorflow/lib/python3.5/site-packages/keras/engine/training.py\u001b[0m in \u001b[0;36mtrain_on_batch\u001b[0;34m(self, x, y, sample_weight, class_weight)\u001b[0m\n\u001b[1;32m   1213\u001b[0m             \u001b[0mins\u001b[0m \u001b[0;34m=\u001b[0m \u001b[0mx\u001b[0m \u001b[0;34m+\u001b[0m \u001b[0my\u001b[0m \u001b[0;34m+\u001b[0m \u001b[0msample_weights\u001b[0m\u001b[0;34m\u001b[0m\u001b[0m\n\u001b[1;32m   1214\u001b[0m         \u001b[0mself\u001b[0m\u001b[0;34m.\u001b[0m\u001b[0m_make_train_function\u001b[0m\u001b[0;34m(\u001b[0m\u001b[0;34m)\u001b[0m\u001b[0;34m\u001b[0m\u001b[0m\n\u001b[0;32m-> 1215\u001b[0;31m         \u001b[0moutputs\u001b[0m \u001b[0;34m=\u001b[0m \u001b[0mself\u001b[0m\u001b[0;34m.\u001b[0m\u001b[0mtrain_function\u001b[0m\u001b[0;34m(\u001b[0m\u001b[0mins\u001b[0m\u001b[0;34m)\u001b[0m\u001b[0;34m\u001b[0m\u001b[0m\n\u001b[0m\u001b[1;32m   1216\u001b[0m         \u001b[0;32mreturn\u001b[0m \u001b[0munpack_singleton\u001b[0m\u001b[0;34m(\u001b[0m\u001b[0moutputs\u001b[0m\u001b[0;34m)\u001b[0m\u001b[0;34m\u001b[0m\u001b[0m\n\u001b[1;32m   1217\u001b[0m \u001b[0;34m\u001b[0m\u001b[0m\n",
      "\u001b[0;32m~/anaconda3/envs/tensorflow/lib/python3.5/site-packages/keras/backend/tensorflow_backend.py\u001b[0m in \u001b[0;36m__call__\u001b[0;34m(self, inputs)\u001b[0m\n\u001b[1;32m   2664\u001b[0m                 \u001b[0;32mreturn\u001b[0m \u001b[0mself\u001b[0m\u001b[0;34m.\u001b[0m\u001b[0m_legacy_call\u001b[0m\u001b[0;34m(\u001b[0m\u001b[0minputs\u001b[0m\u001b[0;34m)\u001b[0m\u001b[0;34m\u001b[0m\u001b[0m\n\u001b[1;32m   2665\u001b[0m \u001b[0;34m\u001b[0m\u001b[0m\n\u001b[0;32m-> 2666\u001b[0;31m             \u001b[0;32mreturn\u001b[0m \u001b[0mself\u001b[0m\u001b[0;34m.\u001b[0m\u001b[0m_call\u001b[0m\u001b[0;34m(\u001b[0m\u001b[0minputs\u001b[0m\u001b[0;34m)\u001b[0m\u001b[0;34m\u001b[0m\u001b[0m\n\u001b[0m\u001b[1;32m   2667\u001b[0m         \u001b[0;32melse\u001b[0m\u001b[0;34m:\u001b[0m\u001b[0;34m\u001b[0m\u001b[0m\n\u001b[1;32m   2668\u001b[0m             \u001b[0;32mif\u001b[0m \u001b[0mpy_any\u001b[0m\u001b[0;34m(\u001b[0m\u001b[0mis_tensor\u001b[0m\u001b[0;34m(\u001b[0m\u001b[0mx\u001b[0m\u001b[0;34m)\u001b[0m \u001b[0;32mfor\u001b[0m \u001b[0mx\u001b[0m \u001b[0;32min\u001b[0m \u001b[0minputs\u001b[0m\u001b[0;34m)\u001b[0m\u001b[0;34m:\u001b[0m\u001b[0;34m\u001b[0m\u001b[0m\n",
      "\u001b[0;32m~/anaconda3/envs/tensorflow/lib/python3.5/site-packages/keras/backend/tensorflow_backend.py\u001b[0m in \u001b[0;36m_call\u001b[0;34m(self, inputs)\u001b[0m\n\u001b[1;32m   2634\u001b[0m                                 \u001b[0msymbol_vals\u001b[0m\u001b[0;34m,\u001b[0m\u001b[0;34m\u001b[0m\u001b[0m\n\u001b[1;32m   2635\u001b[0m                                 session)\n\u001b[0;32m-> 2636\u001b[0;31m         \u001b[0mfetched\u001b[0m \u001b[0;34m=\u001b[0m \u001b[0mself\u001b[0m\u001b[0;34m.\u001b[0m\u001b[0m_callable_fn\u001b[0m\u001b[0;34m(\u001b[0m\u001b[0;34m*\u001b[0m\u001b[0marray_vals\u001b[0m\u001b[0;34m)\u001b[0m\u001b[0;34m\u001b[0m\u001b[0m\n\u001b[0m\u001b[1;32m   2637\u001b[0m         \u001b[0;32mreturn\u001b[0m \u001b[0mfetched\u001b[0m\u001b[0;34m[\u001b[0m\u001b[0;34m:\u001b[0m\u001b[0mlen\u001b[0m\u001b[0;34m(\u001b[0m\u001b[0mself\u001b[0m\u001b[0;34m.\u001b[0m\u001b[0moutputs\u001b[0m\u001b[0;34m)\u001b[0m\u001b[0;34m]\u001b[0m\u001b[0;34m\u001b[0m\u001b[0m\n\u001b[1;32m   2638\u001b[0m \u001b[0;34m\u001b[0m\u001b[0m\n",
      "\u001b[0;32m~/anaconda3/envs/tensorflow/lib/python3.5/site-packages/tensorflow/python/client/session.py\u001b[0m in \u001b[0;36m__call__\u001b[0;34m(self, *args)\u001b[0m\n\u001b[1;32m   1449\u001b[0m         \u001b[0;32mif\u001b[0m \u001b[0mself\u001b[0m\u001b[0;34m.\u001b[0m\u001b[0m_session\u001b[0m\u001b[0;34m.\u001b[0m\u001b[0m_created_with_new_api\u001b[0m\u001b[0;34m:\u001b[0m\u001b[0;34m\u001b[0m\u001b[0m\n\u001b[1;32m   1450\u001b[0m           return tf_session.TF_SessionRunCallable(\n\u001b[0;32m-> 1451\u001b[0;31m               self._session._session, self._handle, args, status, None)\n\u001b[0m\u001b[1;32m   1452\u001b[0m         \u001b[0;32melse\u001b[0m\u001b[0;34m:\u001b[0m\u001b[0;34m\u001b[0m\u001b[0m\n\u001b[1;32m   1453\u001b[0m           return tf_session.TF_DeprecatedSessionRunCallable(\n",
      "\u001b[0;31mKeyboardInterrupt\u001b[0m: "
     ]
    }
   ],
   "source": [
    "from keras.callbacks import ModelCheckpoint\n",
    "import os\n",
    "\n",
    "save_checkpoint = ModelCheckpoint('weights-best.hdf5', monitor='val_acc', verbose=1, save_best_only=True, mode='max')\n",
    "\n",
    "try:\n",
    "    model.load_weights('weights-best.hdf5')\n",
    "except OSError:\n",
    "    pass\n",
    "\n",
    "hist = model.fit_generator(\n",
    "    train_generator,\n",
    "    steps_per_epoch= 2000 // batch_size,\n",
    "    epochs = 50,\n",
    "    validation_data=validation_generator,\n",
    "    validation_steps=800 // batch_size,\n",
    "    callbacks=[save_checkpoint])\n"
   ]
  },
  {
   "cell_type": "code",
   "execution_count": 74,
   "metadata": {},
   "outputs": [
    {
     "name": "stdout",
     "output_type": "stream",
     "text": [
      "Found 9 images belonging to 2 classes.\n"
     ]
    }
   ],
   "source": [
    "model.load_weights('weights-best.hdf5')\n",
    "test_datagen = ImageDataGenerator(rescale=1./255)\n",
    "test_generator = test_datagen.flow_from_directory('data/test', target_size=(150, 150),\n",
    "    batch_size=1,\n",
    "    class_mode='binary', \n",
    "    shuffle=False)\n",
    "\n",
    "predict = model.predict_generator(test_generator, steps=len(test_generator.filenames))"
   ]
  },
  {
   "cell_type": "code",
   "execution_count": 84,
   "metadata": {},
   "outputs": [
    {
     "ename": "TypeError",
     "evalue": "unhashable type: 'numpy.ndarray'",
     "output_type": "error",
     "traceback": [
      "\u001b[0;31m---------------------------------------------------------------------------\u001b[0m",
      "\u001b[0;31mTypeError\u001b[0m                                 Traceback (most recent call last)",
      "\u001b[0;32m<ipython-input-84-e8338e6ab828>\u001b[0m in \u001b[0;36m<module>\u001b[0;34m()\u001b[0m\n\u001b[1;32m      8\u001b[0m \u001b[0;34m\u001b[0m\u001b[0m\n\u001b[1;32m      9\u001b[0m \u001b[0mconv_to_names\u001b[0m \u001b[0;34m=\u001b[0m \u001b[0;32mlambda\u001b[0m \u001b[0mx\u001b[0m\u001b[0;34m:\u001b[0m \u001b[0mlabels_to_names\u001b[0m\u001b[0;34m[\u001b[0m\u001b[0mnp\u001b[0m\u001b[0;34m.\u001b[0m\u001b[0mrint\u001b[0m\u001b[0;34m(\u001b[0m\u001b[0mx\u001b[0m\u001b[0;34m)\u001b[0m\u001b[0;34m]\u001b[0m\u001b[0;34m\u001b[0m\u001b[0m\n\u001b[0;32m---> 10\u001b[0;31m \u001b[0mconv_to_names\u001b[0m\u001b[0;34m(\u001b[0m\u001b[0mnp\u001b[0m\u001b[0;34m.\u001b[0m\u001b[0marray\u001b[0m\u001b[0;34m(\u001b[0m\u001b[0mpredict\u001b[0m\u001b[0;34m)\u001b[0m\u001b[0;34m)\u001b[0m\u001b[0;34m\u001b[0m\u001b[0m\n\u001b[0m",
      "\u001b[0;32m<ipython-input-84-e8338e6ab828>\u001b[0m in \u001b[0;36m<lambda>\u001b[0;34m(x)\u001b[0m\n\u001b[1;32m      7\u001b[0m }\n\u001b[1;32m      8\u001b[0m \u001b[0;34m\u001b[0m\u001b[0m\n\u001b[0;32m----> 9\u001b[0;31m \u001b[0mconv_to_names\u001b[0m \u001b[0;34m=\u001b[0m \u001b[0;32mlambda\u001b[0m \u001b[0mx\u001b[0m\u001b[0;34m:\u001b[0m \u001b[0mlabels_to_names\u001b[0m\u001b[0;34m[\u001b[0m\u001b[0mnp\u001b[0m\u001b[0;34m.\u001b[0m\u001b[0mrint\u001b[0m\u001b[0;34m(\u001b[0m\u001b[0mx\u001b[0m\u001b[0;34m)\u001b[0m\u001b[0;34m]\u001b[0m\u001b[0;34m\u001b[0m\u001b[0m\n\u001b[0m\u001b[1;32m     10\u001b[0m \u001b[0mconv_to_names\u001b[0m\u001b[0;34m(\u001b[0m\u001b[0mnp\u001b[0m\u001b[0;34m.\u001b[0m\u001b[0marray\u001b[0m\u001b[0;34m(\u001b[0m\u001b[0mpredict\u001b[0m\u001b[0;34m)\u001b[0m\u001b[0;34m)\u001b[0m\u001b[0;34m\u001b[0m\u001b[0m\n",
      "\u001b[0;31mTypeError\u001b[0m: unhashable type: 'numpy.ndarray'"
     ]
    }
   ],
   "source": [
    "import numpy as np\n",
    "predict\n",
    "\n",
    "labels_to_names = {\n",
    "    0: 'cat',\n",
    "    1: 'dog'\n",
    "}\n",
    "\n",
    "conv_to_names = lambda x: labels_to_names[np.rint(x)]\n",
    "conv_to_names(np.array(predict))"
   ]
  },
  {
   "cell_type": "code",
   "execution_count": 81,
   "metadata": {},
   "outputs": [
    {
     "data": {
      "text/plain": [
       "array([[0.2739436 ],\n",
       "       [0.13043454],\n",
       "       [0.01510532],\n",
       "       [0.34122548],\n",
       "       [0.38216949],\n",
       "       [0.90608764],\n",
       "       [0.8839372 ],\n",
       "       [0.8647076 ],\n",
       "       [0.9999926 ]], dtype=float32)"
      ]
     },
     "execution_count": 81,
     "metadata": {},
     "output_type": "execute_result"
    }
   ],
   "source": [
    "predict"
   ]
  },
  {
   "cell_type": "code",
   "execution_count": null,
   "metadata": {},
   "outputs": [],
   "source": [
    "array([[0.2739436 ],\n",
    "       [0.13043454],\n",
    "       [0.01510532],\n",
    "       [0.34122548],\n",
    "       [0.38216949],\n",
    "       [0.8839372 ],\n",
    "       [0.8647076 ],\n",
    "       [0.9999926 ]], dtype=float32)"
   ]
  }
 ],
 "metadata": {
  "kernelspec": {
   "display_name": "Python 3",
   "language": "python",
   "name": "python3"
  },
  "language_info": {
   "codemirror_mode": {
    "name": "ipython",
    "version": 3
   },
   "file_extension": ".py",
   "mimetype": "text/x-python",
   "name": "python",
   "nbconvert_exporter": "python",
   "pygments_lexer": "ipython3",
   "version": "3.5.5"
  }
 },
 "nbformat": 4,
 "nbformat_minor": 2
}
